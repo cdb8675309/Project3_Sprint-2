{
 "cells": [
  {
   "cell_type": "code",
   "execution_count": 1,
   "metadata": {},
   "outputs": [],
   "source": [
    "import pandas as pd\n",
    "import numpy as np\n",
    "td_2011 = pd.read_csv('/Users/cd/Documents/Code Academy Berlin/Project 3/2011+trip+data/2011-capitalbikeshare-tripdata.csv')\n",
    "td_2011_copy = td_2011.copy()  "
   ]
  },
  {
   "cell_type": "code",
   "execution_count": 2,
   "metadata": {},
   "outputs": [
    {
     "data": {
      "text/html": [
       "<div>\n",
       "<style scoped>\n",
       "    .dataframe tbody tr th:only-of-type {\n",
       "        vertical-align: middle;\n",
       "    }\n",
       "\n",
       "    .dataframe tbody tr th {\n",
       "        vertical-align: top;\n",
       "    }\n",
       "\n",
       "    .dataframe thead th {\n",
       "        text-align: right;\n",
       "    }\n",
       "</style>\n",
       "<table border=\"1\" class=\"dataframe\">\n",
       "  <thead>\n",
       "    <tr style=\"text-align: right;\">\n",
       "      <th></th>\n",
       "      <th>Duration</th>\n",
       "      <th>Start date</th>\n",
       "      <th>End date</th>\n",
       "      <th>Start station number</th>\n",
       "      <th>Start station</th>\n",
       "      <th>End station number</th>\n",
       "      <th>End station</th>\n",
       "      <th>Bike number</th>\n",
       "      <th>Member type</th>\n",
       "    </tr>\n",
       "  </thead>\n",
       "  <tbody>\n",
       "    <tr>\n",
       "      <th>0</th>\n",
       "      <td>3548</td>\n",
       "      <td>2011-01-01 00:01:29</td>\n",
       "      <td>2011-01-01 01:00:37</td>\n",
       "      <td>31620</td>\n",
       "      <td>5th &amp; F St NW</td>\n",
       "      <td>31620</td>\n",
       "      <td>5th &amp; F St NW</td>\n",
       "      <td>W00247</td>\n",
       "      <td>Member</td>\n",
       "    </tr>\n",
       "    <tr>\n",
       "      <th>1</th>\n",
       "      <td>346</td>\n",
       "      <td>2011-01-01 00:02:46</td>\n",
       "      <td>2011-01-01 00:08:32</td>\n",
       "      <td>31105</td>\n",
       "      <td>14th &amp; Harvard St NW</td>\n",
       "      <td>31101</td>\n",
       "      <td>14th &amp; V St NW</td>\n",
       "      <td>W00675</td>\n",
       "      <td>Casual</td>\n",
       "    </tr>\n",
       "    <tr>\n",
       "      <th>2</th>\n",
       "      <td>562</td>\n",
       "      <td>2011-01-01 00:06:13</td>\n",
       "      <td>2011-01-01 00:15:36</td>\n",
       "      <td>31400</td>\n",
       "      <td>Georgia &amp; New Hampshire Ave NW</td>\n",
       "      <td>31104</td>\n",
       "      <td>Adams Mill &amp; Columbia Rd NW</td>\n",
       "      <td>W00357</td>\n",
       "      <td>Member</td>\n",
       "    </tr>\n",
       "    <tr>\n",
       "      <th>3</th>\n",
       "      <td>434</td>\n",
       "      <td>2011-01-01 00:09:21</td>\n",
       "      <td>2011-01-01 00:16:36</td>\n",
       "      <td>31111</td>\n",
       "      <td>10th &amp; U St NW</td>\n",
       "      <td>31503</td>\n",
       "      <td>Florida Ave &amp; R St NW</td>\n",
       "      <td>W00970</td>\n",
       "      <td>Member</td>\n",
       "    </tr>\n",
       "    <tr>\n",
       "      <th>4</th>\n",
       "      <td>233</td>\n",
       "      <td>2011-01-01 00:28:26</td>\n",
       "      <td>2011-01-01 00:32:19</td>\n",
       "      <td>31104</td>\n",
       "      <td>Adams Mill &amp; Columbia Rd NW</td>\n",
       "      <td>31106</td>\n",
       "      <td>Calvert &amp; Biltmore St NW</td>\n",
       "      <td>W00346</td>\n",
       "      <td>Casual</td>\n",
       "    </tr>\n",
       "  </tbody>\n",
       "</table>\n",
       "</div>"
      ],
      "text/plain": [
       "   Duration           Start date             End date  Start station number  \\\n",
       "0      3548  2011-01-01 00:01:29  2011-01-01 01:00:37                 31620   \n",
       "1       346  2011-01-01 00:02:46  2011-01-01 00:08:32                 31105   \n",
       "2       562  2011-01-01 00:06:13  2011-01-01 00:15:36                 31400   \n",
       "3       434  2011-01-01 00:09:21  2011-01-01 00:16:36                 31111   \n",
       "4       233  2011-01-01 00:28:26  2011-01-01 00:32:19                 31104   \n",
       "\n",
       "                    Start station  End station number  \\\n",
       "0                   5th & F St NW               31620   \n",
       "1            14th & Harvard St NW               31101   \n",
       "2  Georgia & New Hampshire Ave NW               31104   \n",
       "3                  10th & U St NW               31503   \n",
       "4     Adams Mill & Columbia Rd NW               31106   \n",
       "\n",
       "                   End station Bike number Member type  \n",
       "0                5th & F St NW      W00247      Member  \n",
       "1               14th & V St NW      W00675      Casual  \n",
       "2  Adams Mill & Columbia Rd NW      W00357      Member  \n",
       "3        Florida Ave & R St NW      W00970      Member  \n",
       "4     Calvert & Biltmore St NW      W00346      Casual  "
      ]
     },
     "execution_count": 2,
     "metadata": {},
     "output_type": "execute_result"
    }
   ],
   "source": [
    "td_2011.head()"
   ]
  },
  {
   "cell_type": "code",
   "execution_count": 3,
   "metadata": {},
   "outputs": [
    {
     "name": "stdout",
     "output_type": "stream",
     "text": [
      "Duration                False\n",
      "Start date              False\n",
      "End date                False\n",
      "Start station number    False\n",
      "Start station           False\n",
      "End station number      False\n",
      "End station             False\n",
      "Bike number             False\n",
      "Member type             False\n",
      "dtype: bool\n"
     ]
    }
   ],
   "source": [
    "#hunting nans\n",
    "nan_indices = td_2011.isna()\n",
    "print(nan_indices.any()) "
   ]
  },
  {
   "cell_type": "code",
   "execution_count": 4,
   "metadata": {},
   "outputs": [
    {
     "name": "stdout",
     "output_type": "stream",
     "text": [
      "0\n"
     ]
    }
   ],
   "source": [
    "# Count NaN values of whole DataFrame. nothing is NaN\n",
    "nan_count=td_2011.isna().sum().sum()\n",
    "print(nan_count)"
   ]
  },
  {
   "cell_type": "code",
   "execution_count": 5,
   "metadata": {},
   "outputs": [
    {
     "name": "stdout",
     "output_type": "stream",
     "text": [
      "Empty DataFrame\n",
      "Columns: [Duration, Start date, End date, Start station number, Start station, End station number, End station, Bike number, Member type]\n",
      "Index: []\n"
     ]
    }
   ],
   "source": [
    "#hunting duplicates, none found\n",
    "duplicateRows = td_2011[td_2011.duplicated()]\n",
    "print(duplicateRows) "
   ]
  },
  {
   "cell_type": "code",
   "execution_count": 6,
   "metadata": {},
   "outputs": [
    {
     "name": "stdout",
     "output_type": "stream",
     "text": [
      "<class 'pandas.core.frame.DataFrame'>\n",
      "RangeIndex: 1226767 entries, 0 to 1226766\n",
      "Data columns (total 9 columns):\n",
      " #   Column                Non-Null Count    Dtype         \n",
      "---  ------                --------------    -----         \n",
      " 0   Duration              1226767 non-null  int64         \n",
      " 1   Start date            1226767 non-null  datetime64[ns]\n",
      " 2   End date              1226767 non-null  datetime64[ns]\n",
      " 3   Start station number  1226767 non-null  int64         \n",
      " 4   Start station         1226767 non-null  object        \n",
      " 5   End station number    1226767 non-null  int64         \n",
      " 6   End station           1226767 non-null  object        \n",
      " 7   Bike number           1226767 non-null  object        \n",
      " 8   Member type           1226767 non-null  object        \n",
      "dtypes: datetime64[ns](2), int64(3), object(4)\n",
      "memory usage: 84.2+ MB\n"
     ]
    }
   ],
   "source": [
    "#The attribute dteday would require type conversion from object (or string type) to timestamp. \n",
    "#That is, 'dteday' should be a 'datetime' object.\n",
    "td_2011['Start date'] = pd.to_datetime(td_2011['Start date'])\n",
    "td_2011['End date'] = pd.to_datetime(td_2011['End date'])\n",
    "td_2011.info()"
   ]
  },
  {
   "cell_type": "code",
   "execution_count": 19,
   "metadata": {},
   "outputs": [
    {
     "data": {
      "text/html": [
       "<div>\n",
       "<style scoped>\n",
       "    .dataframe tbody tr th:only-of-type {\n",
       "        vertical-align: middle;\n",
       "    }\n",
       "\n",
       "    .dataframe tbody tr th {\n",
       "        vertical-align: top;\n",
       "    }\n",
       "\n",
       "    .dataframe thead th {\n",
       "        text-align: right;\n",
       "    }\n",
       "</style>\n",
       "<table border=\"1\" class=\"dataframe\">\n",
       "  <thead>\n",
       "    <tr style=\"text-align: right;\">\n",
       "      <th></th>\n",
       "      <th>Duration</th>\n",
       "      <th>Start date</th>\n",
       "      <th>End date</th>\n",
       "      <th>Start station number</th>\n",
       "      <th>Start station</th>\n",
       "      <th>End station number</th>\n",
       "      <th>End station</th>\n",
       "      <th>Bike number</th>\n",
       "      <th>Member type</th>\n",
       "      <th>Duration_sec</th>\n",
       "    </tr>\n",
       "  </thead>\n",
       "  <tbody>\n",
       "    <tr>\n",
       "      <th>0</th>\n",
       "      <td>3548</td>\n",
       "      <td>2011-01-01 00:01:29</td>\n",
       "      <td>2011-01-01 01:00:37</td>\n",
       "      <td>31620</td>\n",
       "      <td>5th &amp; F St NW</td>\n",
       "      <td>31620</td>\n",
       "      <td>5th &amp; F St NW</td>\n",
       "      <td>W00247</td>\n",
       "      <td>Member</td>\n",
       "      <td>3548</td>\n",
       "    </tr>\n",
       "    <tr>\n",
       "      <th>1</th>\n",
       "      <td>346</td>\n",
       "      <td>2011-01-01 00:02:46</td>\n",
       "      <td>2011-01-01 00:08:32</td>\n",
       "      <td>31105</td>\n",
       "      <td>14th &amp; Harvard St NW</td>\n",
       "      <td>31101</td>\n",
       "      <td>14th &amp; V St NW</td>\n",
       "      <td>W00675</td>\n",
       "      <td>Casual</td>\n",
       "      <td>346</td>\n",
       "    </tr>\n",
       "    <tr>\n",
       "      <th>2</th>\n",
       "      <td>562</td>\n",
       "      <td>2011-01-01 00:06:13</td>\n",
       "      <td>2011-01-01 00:15:36</td>\n",
       "      <td>31400</td>\n",
       "      <td>Georgia &amp; New Hampshire Ave NW</td>\n",
       "      <td>31104</td>\n",
       "      <td>Adams Mill &amp; Columbia Rd NW</td>\n",
       "      <td>W00357</td>\n",
       "      <td>Member</td>\n",
       "      <td>562</td>\n",
       "    </tr>\n",
       "    <tr>\n",
       "      <th>3</th>\n",
       "      <td>434</td>\n",
       "      <td>2011-01-01 00:09:21</td>\n",
       "      <td>2011-01-01 00:16:36</td>\n",
       "      <td>31111</td>\n",
       "      <td>10th &amp; U St NW</td>\n",
       "      <td>31503</td>\n",
       "      <td>Florida Ave &amp; R St NW</td>\n",
       "      <td>W00970</td>\n",
       "      <td>Member</td>\n",
       "      <td>434</td>\n",
       "    </tr>\n",
       "    <tr>\n",
       "      <th>4</th>\n",
       "      <td>233</td>\n",
       "      <td>2011-01-01 00:28:26</td>\n",
       "      <td>2011-01-01 00:32:19</td>\n",
       "      <td>31104</td>\n",
       "      <td>Adams Mill &amp; Columbia Rd NW</td>\n",
       "      <td>31106</td>\n",
       "      <td>Calvert &amp; Biltmore St NW</td>\n",
       "      <td>W00346</td>\n",
       "      <td>Casual</td>\n",
       "      <td>233</td>\n",
       "    </tr>\n",
       "  </tbody>\n",
       "</table>\n",
       "</div>"
      ],
      "text/plain": [
       "   Duration          Start date            End date Start station number  \\\n",
       "0      3548 2011-01-01 00:01:29 2011-01-01 01:00:37                31620   \n",
       "1       346 2011-01-01 00:02:46 2011-01-01 00:08:32                31105   \n",
       "2       562 2011-01-01 00:06:13 2011-01-01 00:15:36                31400   \n",
       "3       434 2011-01-01 00:09:21 2011-01-01 00:16:36                31111   \n",
       "4       233 2011-01-01 00:28:26 2011-01-01 00:32:19                31104   \n",
       "\n",
       "                    Start station End station number  \\\n",
       "0                   5th & F St NW              31620   \n",
       "1            14th & Harvard St NW              31101   \n",
       "2  Georgia & New Hampshire Ave NW              31104   \n",
       "3                  10th & U St NW              31503   \n",
       "4     Adams Mill & Columbia Rd NW              31106   \n",
       "\n",
       "                   End station Bike number Member type  Duration_sec  \n",
       "0                5th & F St NW      W00247      Member          3548  \n",
       "1               14th & V St NW      W00675      Casual           346  \n",
       "2  Adams Mill & Columbia Rd NW      W00357      Member           562  \n",
       "3        Florida Ave & R St NW      W00970      Member           434  \n",
       "4     Calvert & Biltmore St NW      W00346      Casual           233  "
      ]
     },
     "execution_count": 19,
     "metadata": {},
     "output_type": "execute_result"
    }
   ],
   "source": [
    "td_2011['Duration_sec'] = td_2011['Duration']\n",
    "td_2011.head()"
   ]
  },
  {
   "cell_type": "code",
   "execution_count": 15,
   "metadata": {},
   "outputs": [],
   "source": [
    "td_2011[[\"Start station number\", \"End station number\"]] = td_2011[[\"Start station number\", \"End station number\"]].astype(\"category\")"
   ]
  },
  {
   "cell_type": "code",
   "execution_count": 16,
   "metadata": {},
   "outputs": [
    {
     "name": "stdout",
     "output_type": "stream",
     "text": [
      "Start station number    category\n",
      "End station number      category\n",
      "dtype: object\n"
     ]
    }
   ],
   "source": [
    "print(td_2011[[\"Start station number\", \"End station number\"]].dtypes)"
   ]
  },
  {
   "cell_type": "code",
   "execution_count": 18,
   "metadata": {},
   "outputs": [
    {
     "ename": "UFuncTypeError",
     "evalue": "ufunc 'add' cannot use operands with types dtype('<M8[ns]') and dtype('<M8[ns]')",
     "output_type": "error",
     "traceback": [
      "\u001b[0;31m---------------------------------------------------------------------------\u001b[0m",
      "\u001b[0;31mUFuncTypeError\u001b[0m                            Traceback (most recent call last)",
      "Cell \u001b[0;32mIn[18], line 3\u001b[0m\n\u001b[1;32m      1\u001b[0m fig,ax \u001b[39m=\u001b[39m plt\u001b[39m.\u001b[39msubplots(figsize\u001b[39m=\u001b[39m(\u001b[39m15\u001b[39m,\u001b[39m10\u001b[39m))\n\u001b[0;32m----> 3\u001b[0m sns\u001b[39m.\u001b[39mpointplot(data\u001b[39m=\u001b[39mtd_2011, x\u001b[39m=\u001b[39m\u001b[39m\"\u001b[39m\u001b[39mStart date\u001b[39m\u001b[39m\"\u001b[39m, y\u001b[39m=\u001b[39m\u001b[39m\"\u001b[39m\u001b[39mEnd station number\u001b[39m\u001b[39m\"\u001b[39m, hue\u001b[39m=\u001b[39m\u001b[39m\"\u001b[39m\u001b[39mMember type\u001b[39m\u001b[39m\"\u001b[39m, \n\u001b[1;32m      4\u001b[0m     capsize\u001b[39m=\u001b[39m\u001b[39m.2\u001b[39m, palette\u001b[39m=\u001b[39m\u001b[39m\"\u001b[39m\u001b[39mhls\u001b[39m\u001b[39m\"\u001b[39m, ax\u001b[39m=\u001b[39max)\n\u001b[1;32m      5\u001b[0m ax\u001b[39m.\u001b[39mset(title\u001b[39m=\u001b[39m\u001b[39m\"\u001b[39m\u001b[39mCounts of hourly bikes by season\u001b[39m\u001b[39m\"\u001b[39m)\n\u001b[1;32m      6\u001b[0m plt\u001b[39m.\u001b[39mshow()\n",
      "File \u001b[0;32m~/anaconda3/lib/python3.11/site-packages/seaborn/categorical.py:2839\u001b[0m, in \u001b[0;36mpointplot\u001b[0;34m(data, x, y, hue, order, hue_order, estimator, errorbar, n_boot, units, seed, markers, linestyles, dodge, join, scale, orient, color, palette, errwidth, ci, capsize, label, ax)\u001b[0m\n\u001b[1;32m   2829\u001b[0m \u001b[39mdef\u001b[39;00m \u001b[39mpointplot\u001b[39m(\n\u001b[1;32m   2830\u001b[0m     data\u001b[39m=\u001b[39m\u001b[39mNone\u001b[39;00m, \u001b[39m*\u001b[39m, x\u001b[39m=\u001b[39m\u001b[39mNone\u001b[39;00m, y\u001b[39m=\u001b[39m\u001b[39mNone\u001b[39;00m, hue\u001b[39m=\u001b[39m\u001b[39mNone\u001b[39;00m, order\u001b[39m=\u001b[39m\u001b[39mNone\u001b[39;00m, hue_order\u001b[39m=\u001b[39m\u001b[39mNone\u001b[39;00m,\n\u001b[1;32m   2831\u001b[0m     estimator\u001b[39m=\u001b[39m\u001b[39m\"\u001b[39m\u001b[39mmean\u001b[39m\u001b[39m\"\u001b[39m, errorbar\u001b[39m=\u001b[39m(\u001b[39m\"\u001b[39m\u001b[39mci\u001b[39m\u001b[39m\"\u001b[39m, \u001b[39m95\u001b[39m), n_boot\u001b[39m=\u001b[39m\u001b[39m1000\u001b[39m, units\u001b[39m=\u001b[39m\u001b[39mNone\u001b[39;00m, seed\u001b[39m=\u001b[39m\u001b[39mNone\u001b[39;00m,\n\u001b[0;32m   (...)\u001b[0m\n\u001b[1;32m   2834\u001b[0m     capsize\u001b[39m=\u001b[39m\u001b[39mNone\u001b[39;00m, label\u001b[39m=\u001b[39m\u001b[39mNone\u001b[39;00m, ax\u001b[39m=\u001b[39m\u001b[39mNone\u001b[39;00m,\n\u001b[1;32m   2835\u001b[0m ):\n\u001b[1;32m   2837\u001b[0m     errorbar \u001b[39m=\u001b[39m utils\u001b[39m.\u001b[39m_deprecate_ci(errorbar, ci)\n\u001b[0;32m-> 2839\u001b[0m     plotter \u001b[39m=\u001b[39m _PointPlotter(x, y, hue, data, order, hue_order,\n\u001b[1;32m   2840\u001b[0m                             estimator, errorbar, n_boot, units, seed,\n\u001b[1;32m   2841\u001b[0m                             markers, linestyles, dodge, join, scale,\n\u001b[1;32m   2842\u001b[0m                             orient, color, palette, errwidth, capsize, label)\n\u001b[1;32m   2844\u001b[0m     \u001b[39mif\u001b[39;00m ax \u001b[39mis\u001b[39;00m \u001b[39mNone\u001b[39;00m:\n\u001b[1;32m   2845\u001b[0m         ax \u001b[39m=\u001b[39m plt\u001b[39m.\u001b[39mgca()\n",
      "File \u001b[0;32m~/anaconda3/lib/python3.11/site-packages/seaborn/categorical.py:1604\u001b[0m, in \u001b[0;36m_PointPlotter.__init__\u001b[0;34m(self, x, y, hue, data, order, hue_order, estimator, errorbar, n_boot, units, seed, markers, linestyles, dodge, join, scale, orient, color, palette, errwidth, capsize, label)\u001b[0m\n\u001b[1;32m   1601\u001b[0m \u001b[39mself\u001b[39m\u001b[39m.\u001b[39mestablish_variables(x, y, hue, data, orient,\n\u001b[1;32m   1602\u001b[0m                          order, hue_order, units)\n\u001b[1;32m   1603\u001b[0m \u001b[39mself\u001b[39m\u001b[39m.\u001b[39mestablish_colors(color, palette, \u001b[39m1\u001b[39m)\n\u001b[0;32m-> 1604\u001b[0m \u001b[39mself\u001b[39m\u001b[39m.\u001b[39mestimate_statistic(estimator, errorbar, n_boot, seed)\n\u001b[1;32m   1606\u001b[0m \u001b[39m# Override the default palette for single-color plots\u001b[39;00m\n\u001b[1;32m   1607\u001b[0m \u001b[39mif\u001b[39;00m hue \u001b[39mis\u001b[39;00m \u001b[39mNone\u001b[39;00m \u001b[39mand\u001b[39;00m color \u001b[39mis\u001b[39;00m \u001b[39mNone\u001b[39;00m \u001b[39mand\u001b[39;00m palette \u001b[39mis\u001b[39;00m \u001b[39mNone\u001b[39;00m:\n",
      "File \u001b[0;32m~/anaconda3/lib/python3.11/site-packages/seaborn/categorical.py:1484\u001b[0m, in \u001b[0;36m_CategoricalStatPlotter.estimate_statistic\u001b[0;34m(self, estimator, errorbar, n_boot, seed)\u001b[0m\n\u001b[1;32m   1481\u001b[0m \u001b[39mif\u001b[39;00m \u001b[39mself\u001b[39m\u001b[39m.\u001b[39mplot_units \u001b[39mis\u001b[39;00m \u001b[39mnot\u001b[39;00m \u001b[39mNone\u001b[39;00m:\n\u001b[1;32m   1482\u001b[0m     df[\u001b[39m\"\u001b[39m\u001b[39munits\u001b[39m\u001b[39m\"\u001b[39m] \u001b[39m=\u001b[39m \u001b[39mself\u001b[39m\u001b[39m.\u001b[39mplot_units[i][hue_mask]\n\u001b[0;32m-> 1484\u001b[0m res \u001b[39m=\u001b[39m agg(df, var)\n\u001b[1;32m   1486\u001b[0m statistic[i]\u001b[39m.\u001b[39mappend(res[var])\n\u001b[1;32m   1487\u001b[0m \u001b[39mif\u001b[39;00m errorbar \u001b[39mis\u001b[39;00m \u001b[39mnot\u001b[39;00m \u001b[39mNone\u001b[39;00m:\n",
      "File \u001b[0;32m~/anaconda3/lib/python3.11/site-packages/seaborn/_statistics.py:513\u001b[0m, in \u001b[0;36mEstimateAggregator.__call__\u001b[0;34m(self, data, var)\u001b[0m\n\u001b[1;32m    511\u001b[0m \u001b[39melif\u001b[39;00m \u001b[39mself\u001b[39m\u001b[39m.\u001b[39merror_method \u001b[39m==\u001b[39m \u001b[39m\"\u001b[39m\u001b[39mci\u001b[39m\u001b[39m\"\u001b[39m:\n\u001b[1;32m    512\u001b[0m     units \u001b[39m=\u001b[39m data\u001b[39m.\u001b[39mget(\u001b[39m\"\u001b[39m\u001b[39munits\u001b[39m\u001b[39m\"\u001b[39m, \u001b[39mNone\u001b[39;00m)\n\u001b[0;32m--> 513\u001b[0m     boots \u001b[39m=\u001b[39m bootstrap(vals, units\u001b[39m=\u001b[39munits, func\u001b[39m=\u001b[39m\u001b[39mself\u001b[39m\u001b[39m.\u001b[39mestimator, \u001b[39m*\u001b[39m\u001b[39m*\u001b[39m\u001b[39mself\u001b[39m\u001b[39m.\u001b[39mboot_kws)\n\u001b[1;32m    514\u001b[0m     err_min, err_max \u001b[39m=\u001b[39m _percentile_interval(boots, \u001b[39mself\u001b[39m\u001b[39m.\u001b[39merror_level)\n\u001b[1;32m    516\u001b[0m \u001b[39mreturn\u001b[39;00m pd\u001b[39m.\u001b[39mSeries({var: estimate, \u001b[39mf\u001b[39m\u001b[39m\"\u001b[39m\u001b[39m{\u001b[39;00mvar\u001b[39m}\u001b[39;00m\u001b[39mmin\u001b[39m\u001b[39m\"\u001b[39m: err_min, \u001b[39mf\u001b[39m\u001b[39m\"\u001b[39m\u001b[39m{\u001b[39;00mvar\u001b[39m}\u001b[39;00m\u001b[39mmax\u001b[39m\u001b[39m\"\u001b[39m: err_max})\n",
      "File \u001b[0;32m~/anaconda3/lib/python3.11/site-packages/seaborn/algorithms.py:70\u001b[0m, in \u001b[0;36mbootstrap\u001b[0;34m(*args, **kwargs)\u001b[0m\n\u001b[1;32m     67\u001b[0m f \u001b[39m=\u001b[39m \u001b[39mgetattr\u001b[39m(np, func)\n\u001b[1;32m     69\u001b[0m \u001b[39m# Try to use nan-aware version of function if necessary\u001b[39;00m\n\u001b[0;32m---> 70\u001b[0m missing_data \u001b[39m=\u001b[39m np\u001b[39m.\u001b[39misnan(np\u001b[39m.\u001b[39msum(np\u001b[39m.\u001b[39mcolumn_stack(args)))\n\u001b[1;32m     72\u001b[0m \u001b[39mif\u001b[39;00m missing_data \u001b[39mand\u001b[39;00m \u001b[39mnot\u001b[39;00m func\u001b[39m.\u001b[39mstartswith(\u001b[39m\"\u001b[39m\u001b[39mnan\u001b[39m\u001b[39m\"\u001b[39m):\n\u001b[1;32m     73\u001b[0m     nanf \u001b[39m=\u001b[39m \u001b[39mgetattr\u001b[39m(np, \u001b[39mf\u001b[39m\u001b[39m\"\u001b[39m\u001b[39mnan\u001b[39m\u001b[39m{\u001b[39;00mfunc\u001b[39m}\u001b[39;00m\u001b[39m\"\u001b[39m, \u001b[39mNone\u001b[39;00m)\n",
      "File \u001b[0;32m<__array_function__ internals>:200\u001b[0m, in \u001b[0;36msum\u001b[0;34m(*args, **kwargs)\u001b[0m\n",
      "File \u001b[0;32m~/anaconda3/lib/python3.11/site-packages/numpy/core/fromnumeric.py:2324\u001b[0m, in \u001b[0;36msum\u001b[0;34m(a, axis, dtype, out, keepdims, initial, where)\u001b[0m\n\u001b[1;32m   2321\u001b[0m         \u001b[39mreturn\u001b[39;00m out\n\u001b[1;32m   2322\u001b[0m     \u001b[39mreturn\u001b[39;00m res\n\u001b[0;32m-> 2324\u001b[0m \u001b[39mreturn\u001b[39;00m _wrapreduction(a, np\u001b[39m.\u001b[39madd, \u001b[39m'\u001b[39m\u001b[39msum\u001b[39m\u001b[39m'\u001b[39m, axis, dtype, out, keepdims\u001b[39m=\u001b[39mkeepdims,\n\u001b[1;32m   2325\u001b[0m                       initial\u001b[39m=\u001b[39minitial, where\u001b[39m=\u001b[39mwhere)\n",
      "File \u001b[0;32m~/anaconda3/lib/python3.11/site-packages/numpy/core/fromnumeric.py:86\u001b[0m, in \u001b[0;36m_wrapreduction\u001b[0;34m(obj, ufunc, method, axis, dtype, out, **kwargs)\u001b[0m\n\u001b[1;32m     83\u001b[0m         \u001b[39melse\u001b[39;00m:\n\u001b[1;32m     84\u001b[0m             \u001b[39mreturn\u001b[39;00m reduction(axis\u001b[39m=\u001b[39maxis, out\u001b[39m=\u001b[39mout, \u001b[39m*\u001b[39m\u001b[39m*\u001b[39mpasskwargs)\n\u001b[0;32m---> 86\u001b[0m \u001b[39mreturn\u001b[39;00m ufunc\u001b[39m.\u001b[39mreduce(obj, axis, dtype, out, \u001b[39m*\u001b[39m\u001b[39m*\u001b[39mpasskwargs)\n",
      "\u001b[0;31mUFuncTypeError\u001b[0m: ufunc 'add' cannot use operands with types dtype('<M8[ns]') and dtype('<M8[ns]')"
     ]
    },
    {
     "data": {
      "image/png": "[encoded data removed]",
      "text/plain": [
       "<Figure size 1500x1000 with 1 Axes>"
      ]
     },
     "metadata": {},
     "output_type": "display_data"
    }
   ],
   "source": [
    "fig,ax = plt.subplots(figsize=(15,10))\n",
    "\n",
    "sns.pointplot(data=td_2011, x=\"Start date\", y=\"End station number\", hue=\"Member type\", \n",
    "    capsize=.2, palette=\"hls\", ax=ax)\n",
    "ax.set(title=\"Counts of hourly bikes by season\")\n",
    "plt.show()"
   ]
  }
 ],
 "metadata": {
  "kernelspec": {
   "display_name": "base",
   "language": "python",
   "name": "python3"
  },
  "language_info": {
   "codemirror_mode": {
    "name": "ipython",
    "version": 3
   },
   "file_extension": ".py",
   "mimetype": "text/x-python",
   "name": "python",
   "nbconvert_exporter": "python",
   "pygments_lexer": "ipython3",
   "version": "3.11.3"
  },
  "orig_nbformat": 4
 },
 "nbformat": 4,
 "nbformat_minor": 2
}
